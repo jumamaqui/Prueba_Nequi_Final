{
	"metadata": {
		"kernelspec": {
			"display_name": "Glue PySpark",
			"language": "python",
			"name": "glue_pyspark"
		},
		"language_info": {
			"codemirror_mode": {
				"name": "python",
				"version": 3
			},
			"file_extension": ".py",
			"mimetype": "text/x-python",
			"name": "Python_Glue_Session",
			"pygments_lexer": "python3"
		}
	},
	"nbformat_minor": 5,
	"nbformat": 4,
	"cells": [
		{
			"cell_type": "code",
			"source": "#Librerias\nimport sys\nfrom awsglue.context import GlueContext\nfrom awsglue.utils import getResolvedOptions\nfrom pyspark.context import SparkContext\nfrom pyspark.sql import functions as F\nfrom pyspark.ml import Pipeline\nfrom pyspark.ml.feature import Tokenizer, StopWordsRemover, HashingTF, IDF, StringIndexer\nfrom pyspark.ml.classification import LogisticRegression\nfrom pyspark.ml.evaluation import BinaryClassificationEvaluator\nfrom datetime import datetime",
			"metadata": {
				"trusted": true,
				"tags": []
			},
			"execution_count": 1,
			"outputs": [
				{
					"name": "stdout",
					"text": "Welcome to the Glue Interactive Sessions Kernel\nFor more information on available magic commands, please type %help in any new cell.\n\nPlease view our Getting Started page to access the most up-to-date information on the Interactive Sessions kernel: https://docs.aws.amazon.com/glue/latest/dg/interactive-sessions.html\nInstalled kernel version: 1.0.8 \nTrying to create a Glue session for the kernel.\nSession Type: glueetl\nSession ID: 9c29dd90-a814-4f5e-9cb9-3d149993f5cd\nApplying the following default arguments:\n--glue_kernel_version 1.0.8\n--enable-glue-datacatalog true\nWaiting for session 9c29dd90-a814-4f5e-9cb9-3d149993f5cd to get into ready status...\nSession 9c29dd90-a814-4f5e-9cb9-3d149993f5cd has been created.\n\n",
					"output_type": "stream"
				}
			],
			"id": "9396c2fb-c9f1-41ed-a92d-b4d1cbc3ac9f"
		},
		{
			"cell_type": "code",
			"source": "#Inicio de Contexto\nsc = SparkContext.getOrCreate()\nglueContext = GlueContext(sc)\nspark = glueContext.spark_session\nspark.conf.set(\"mapreduce.fileoutputcommitter.algorithm.version\", \"1\")\nspark.conf.set(\"spark.hadoop.mapreduce.outputcommitter.factory.scheme.s3a\", \"org.apache.hadoop.mapreduce.lib.output.FileOutputCommitterFactory\")\nlogger = glueContext.get_logger()",
			"metadata": {
				"trusted": true,
				"tags": []
			},
			"execution_count": 2,
			"outputs": [
				{
					"name": "stdout",
					"text": "\n",
					"output_type": "stream"
				}
			],
			"id": "d96432b0-f3b6-41fb-8804-811682717c8e"
		},
		{
			"cell_type": "code",
			"source": "#Configuracion\ninput_path = \"s3://nequijmmarinq/processed/clean_data/\"\nmodel_output_path = \"s3://nequijmmarinq/models/msg-classifier/\"\nversion = \"1.0\"\ntrained = datetime.utcnow().isoformat()",
			"metadata": {
				"trusted": true,
				"tags": []
			},
			"execution_count": 2,
			"outputs": [
				{
					"name": "stdout",
					"text": "\n",
					"output_type": "stream"
				}
			],
			"id": "d850ce3d-6956-4029-b99e-a45a5355b8da"
		},
		{
			"cell_type": "code",
			"source": "#Leer los datos limpios \nlogger.info(\"Leyendo datos limpios desde S3...\")\ndf = spark.read.parquet(input_path)",
			"metadata": {
				"trusted": true,
				"tags": []
			},
			"execution_count": 4,
			"outputs": [
				{
					"name": "stdout",
					"text": "\n",
					"output_type": "stream"
				}
			],
			"id": "8c292b4b-e10a-4c48-b3d0-fcc2c2722a23"
		},
		{
			"cell_type": "code",
			"source": "df.schema",
			"metadata": {
				"trusted": true,
				"tags": []
			},
			"execution_count": 5,
			"outputs": [
				{
					"name": "stdout",
					"text": "StructType([StructField('inbound', IntegerType(), True), StructField('created_at', StringType(), True), StructField('text', StringType(), True)])\n",
					"output_type": "stream"
				}
			],
			"id": "fad9995a-b781-4552-8978-efbc8b1a46b7"
		},
		{
			"cell_type": "code",
			"source": "#Mismas cantidad de los datos del job anterior\ndf.count()",
			"metadata": {
				"trusted": true,
				"tags": []
			},
			"execution_count": 6,
			"outputs": [
				{
					"name": "stdout",
					"text": "2811776\n",
					"output_type": "stream"
				}
			],
			"id": "a3488330-d56e-4d07-b508-d8097d377ace"
		},
		{
			"cell_type": "code",
			"source": "df.show()",
			"metadata": {
				"trusted": true,
				"tags": []
			},
			"execution_count": 7,
			"outputs": [
				{
					"name": "stdout",
					"text": "+-------+--------------------+--------------------+\n|inbound|          created_at|                text|\n+-------+--------------------+--------------------+\n|      1|Thu Oct 12 03:25:...|promise promise h...|\n|      0|Thu Oct 12 11:53:...|291022 absolutely...|\n|      1|Thu Oct 12 11:50:...| 115911 i’m contract|\n|      0|Thu Oct 12 11:57:...|308357 weve danci...|\n|      1|Thu Oct 12 11:56:...|southwestair happ...|\n|      0|Thu Oct 12 11:52:...|308358 pleasure s...|\n|      1|Thu Oct 12 11:47:...|southwestair anot...|\n|      0|Thu Oct 12 11:50:...|308359 cant wait ...|\n|      1|Thu Oct 12 12:58:...|southwestair 3083...|\n|      0|Thu Oct 12 12:59:...|308360 cant wait ...|\n|      1|Thu Oct 12 11:47:...|pretty pumped wak...|\n|      0|Thu Oct 12 11:50:...|308361 kerry yes ...|\n|      1|Thu Oct 12 11:52:...|        southwestair|\n|      1|Thu Oct 12 11:44:...|southwestair allo...|\n|      0|Thu Oct 12 11:49:...|159315 yes—put pt...|\n|      1|Thu Oct 12 11:40:...|southwestair anno...|\n|      0|Thu Oct 12 11:44:...|120282 low fares ...|\n|      1|Thu Oct 12 11:41:...|southwestair pric...|\n|      0|Thu Oct 12 11:57:...|308362 ill happy ...|\n|      1|Thu Oct 12 11:33:...|askspectrum known...|\n+-------+--------------------+--------------------+\nonly showing top 20 rows\n",
					"output_type": "stream"
				}
			],
			"id": "de2a32cd-5d88-4148-b622-71758ce29f3c"
		},
		{
			"cell_type": "code",
			"source": "#Target\ndf = df.filter(F.col(\"inbound\").isNotNull())",
			"metadata": {
				"trusted": true,
				"tags": []
			},
			"execution_count": 8,
			"outputs": [
				{
					"name": "stdout",
					"text": "\n",
					"output_type": "stream"
				}
			],
			"id": "20111200-8f01-49cf-a898-584b43f8a68e"
		},
		{
			"cell_type": "code",
			"source": "#Tokenizador, convertir palabras en vectores\ntokenizer = Tokenizer(inputCol=\"text\", outputCol=\"tokens\")",
			"metadata": {
				"trusted": true,
				"tags": []
			},
			"execution_count": 9,
			"outputs": [
				{
					"name": "stdout",
					"text": "\n",
					"output_type": "stream"
				}
			],
			"id": "baaf7289-72c1-4cb5-a91d-ae7cbe5d2ae1"
		},
		{
			"cell_type": "code",
			"source": "wordsData = tokenizer.transform(df)",
			"metadata": {
				"trusted": true,
				"tags": []
			},
			"execution_count": 10,
			"outputs": [
				{
					"name": "stdout",
					"text": "\n",
					"output_type": "stream"
				}
			],
			"id": "eadf9eea-76a1-464a-a56c-7c841bc90c4f"
		},
		{
			"cell_type": "code",
			"source": "wordsData.show()",
			"metadata": {
				"trusted": true,
				"tags": []
			},
			"execution_count": 11,
			"outputs": [
				{
					"name": "stdout",
					"text": "+-------+--------------------+--------------------+--------------------+\n|inbound|          created_at|                text|              tokens|\n+-------+--------------------+--------------------+--------------------+\n|      1|Thu Oct 12 03:25:...|promise promise h...|[promise, promise...|\n|      0|Thu Oct 12 11:53:...|291022 absolutely...|[291022, absolute...|\n|      1|Thu Oct 12 11:50:...| 115911 i’m contract|[115911, i’m, con...|\n|      0|Thu Oct 12 11:57:...|308357 weve danci...|[308357, weve, da...|\n|      1|Thu Oct 12 11:56:...|southwestair happ...|[southwestair, ha...|\n|      0|Thu Oct 12 11:52:...|308358 pleasure s...|[308358, pleasure...|\n|      1|Thu Oct 12 11:47:...|southwestair anot...|[southwestair, an...|\n|      0|Thu Oct 12 11:50:...|308359 cant wait ...|[308359, cant, wa...|\n|      1|Thu Oct 12 12:58:...|southwestair 3083...|[southwestair, 30...|\n|      0|Thu Oct 12 12:59:...|308360 cant wait ...|[308360, cant, wa...|\n|      1|Thu Oct 12 11:47:...|pretty pumped wak...|[pretty, pumped, ...|\n|      0|Thu Oct 12 11:50:...|308361 kerry yes ...|[308361, kerry, y...|\n|      1|Thu Oct 12 11:52:...|        southwestair|      [southwestair]|\n|      1|Thu Oct 12 11:44:...|southwestair allo...|[southwestair, al...|\n|      0|Thu Oct 12 11:49:...|159315 yes—put pt...|[159315, yes—put,...|\n|      1|Thu Oct 12 11:40:...|southwestair anno...|[southwestair, an...|\n|      0|Thu Oct 12 11:44:...|120282 low fares ...|[120282, low, far...|\n|      1|Thu Oct 12 11:41:...|southwestair pric...|[southwestair, pr...|\n|      0|Thu Oct 12 11:57:...|308362 ill happy ...|[308362, ill, hap...|\n|      1|Thu Oct 12 11:33:...|askspectrum known...|[askspectrum, kno...|\n+-------+--------------------+--------------------+--------------------+\nonly showing top 20 rows\n",
					"output_type": "stream"
				}
			],
			"id": "017058dc-5a6d-472f-aa43-48d3bf715026"
		},
		{
			"cell_type": "code",
			"source": "#Hashing, proceso de convertir un vector en longitud fija\ntf = HashingTF(inputCol=\"tokens\", outputCol=\"rawFeatures\", numFeatures=10000)",
			"metadata": {
				"trusted": true,
				"tags": []
			},
			"execution_count": 12,
			"outputs": [
				{
					"name": "stdout",
					"text": "\n",
					"output_type": "stream"
				}
			],
			"id": "48b2f142-c590-422b-b238-6311f80e8f31"
		},
		{
			"cell_type": "code",
			"source": "hashingTF_model = tf.transform(wordsData)",
			"metadata": {
				"trusted": true,
				"tags": []
			},
			"execution_count": 13,
			"outputs": [
				{
					"name": "stdout",
					"text": "\n",
					"output_type": "stream"
				}
			],
			"id": "8912dbf5-a48c-41e7-9fd1-ff03ece30cd0"
		},
		{
			"cell_type": "code",
			"source": "hashingTF_model.show()",
			"metadata": {
				"trusted": true,
				"tags": []
			},
			"execution_count": 14,
			"outputs": [
				{
					"name": "stdout",
					"text": "+-------+--------------------+--------------------+--------------------+--------------------+\n|inbound|          created_at|                text|              tokens|         rawFeatures|\n+-------+--------------------+--------------------+--------------------+--------------------+\n|      1|Thu Oct 12 03:25:...|promise promise h...|[promise, promise...|(10000,[1813,3855...|\n|      0|Thu Oct 12 11:53:...|291022 absolutely...|[291022, absolute...|(10000,[157,1280,...|\n|      1|Thu Oct 12 11:50:...| 115911 i’m contract|[115911, i’m, con...|(10000,[1125,2628...|\n|      0|Thu Oct 12 11:57:...|308357 weve danci...|[308357, weve, da...|(10000,[1071,2662...|\n|      1|Thu Oct 12 11:56:...|southwestair happ...|[southwestair, ha...|(10000,[1259,1690...|\n|      0|Thu Oct 12 11:52:...|308358 pleasure s...|[308358, pleasure...|(10000,[3221,6117...|\n|      1|Thu Oct 12 11:47:...|southwestair anot...|[southwestair, an...|(10000,[448,2144,...|\n|      0|Thu Oct 12 11:50:...|308359 cant wait ...|[308359, cant, wa...|(10000,[4038,4940...|\n|      1|Thu Oct 12 12:58:...|southwestair 3083...|[southwestair, 30...|(10000,[1248,3451...|\n|      0|Thu Oct 12 12:59:...|308360 cant wait ...|[308360, cant, wa...|(10000,[1041,1248...|\n|      1|Thu Oct 12 11:47:...|pretty pumped wak...|[pretty, pumped, ...|(10000,[613,2252,...|\n|      0|Thu Oct 12 11:50:...|308361 kerry yes ...|[308361, kerry, y...|(10000,[361,585,2...|\n|      1|Thu Oct 12 11:52:...|        southwestair|      [southwestair]|(10000,[3603],[1.0])|\n|      1|Thu Oct 12 11:44:...|southwestair allo...|[southwestair, al...|(10000,[361,393,1...|\n|      0|Thu Oct 12 11:49:...|159315 yes—put pt...|[159315, yes—put,...|(10000,[3057,3850...|\n|      1|Thu Oct 12 11:40:...|southwestair anno...|[southwestair, an...|(10000,[2252,2543...|\n|      0|Thu Oct 12 11:44:...|120282 low fares ...|[120282, low, far...|(10000,[829,1403,...|\n|      1|Thu Oct 12 11:41:...|southwestair pric...|[southwestair, pr...|(10000,[3340,3603...|\n|      0|Thu Oct 12 11:57:...|308362 ill happy ...|[308362, ill, hap...|(10000,[346,2789,...|\n|      1|Thu Oct 12 11:33:...|askspectrum known...|[askspectrum, kno...|(10000,[941,2068,...|\n+-------+--------------------+--------------------+--------------------+--------------------+\nonly showing top 20 rows\n",
					"output_type": "stream"
				}
			],
			"id": "0ff1f141-94af-475f-915c-c39b11b61a58"
		},
		{
			"cell_type": "code",
			"source": "#Calculo de frecuencias en las palabras\nidf = IDF(inputCol=\"rawFeatures\", outputCol=\"features\").fit(hashingTF_model)",
			"metadata": {
				"trusted": true,
				"tags": []
			},
			"execution_count": 15,
			"outputs": [
				{
					"name": "stdout",
					"text": "\n",
					"output_type": "stream"
				}
			],
			"id": "09a4f930-cba8-4fdb-8588-aa079001a4f1"
		},
		{
			"cell_type": "code",
			"source": "tfidf = idf.transform(hashingTF_model)",
			"metadata": {
				"trusted": true,
				"tags": []
			},
			"execution_count": 16,
			"outputs": [
				{
					"name": "stdout",
					"text": "\n",
					"output_type": "stream"
				}
			],
			"id": "605c52ed-4a01-4850-bdb7-4d13645311bd"
		},
		{
			"cell_type": "code",
			"source": "tfidf.show()",
			"metadata": {
				"trusted": true,
				"tags": []
			},
			"execution_count": 17,
			"outputs": [
				{
					"name": "stdout",
					"text": "+-------+--------------------+--------------------+--------------------+--------------------+--------------------+\n|inbound|          created_at|                text|              tokens|         rawFeatures|            features|\n+-------+--------------------+--------------------+--------------------+--------------------+--------------------+\n|      1|Thu Oct 12 03:25:...|promise promise h...|[promise, promise...|(10000,[1813,3855...|(10000,[1813,3855...|\n|      0|Thu Oct 12 11:53:...|291022 absolutely...|[291022, absolute...|(10000,[157,1280,...|(10000,[157,1280,...|\n|      1|Thu Oct 12 11:50:...| 115911 i’m contract|[115911, i’m, con...|(10000,[1125,2628...|(10000,[1125,2628...|\n|      0|Thu Oct 12 11:57:...|308357 weve danci...|[308357, weve, da...|(10000,[1071,2662...|(10000,[1071,2662...|\n|      1|Thu Oct 12 11:56:...|southwestair happ...|[southwestair, ha...|(10000,[1259,1690...|(10000,[1259,1690...|\n|      0|Thu Oct 12 11:52:...|308358 pleasure s...|[308358, pleasure...|(10000,[3221,6117...|(10000,[3221,6117...|\n|      1|Thu Oct 12 11:47:...|southwestair anot...|[southwestair, an...|(10000,[448,2144,...|(10000,[448,2144,...|\n|      0|Thu Oct 12 11:50:...|308359 cant wait ...|[308359, cant, wa...|(10000,[4038,4940...|(10000,[4038,4940...|\n|      1|Thu Oct 12 12:58:...|southwestair 3083...|[southwestair, 30...|(10000,[1248,3451...|(10000,[1248,3451...|\n|      0|Thu Oct 12 12:59:...|308360 cant wait ...|[308360, cant, wa...|(10000,[1041,1248...|(10000,[1041,1248...|\n|      1|Thu Oct 12 11:47:...|pretty pumped wak...|[pretty, pumped, ...|(10000,[613,2252,...|(10000,[613,2252,...|\n|      0|Thu Oct 12 11:50:...|308361 kerry yes ...|[308361, kerry, y...|(10000,[361,585,2...|(10000,[361,585,2...|\n|      1|Thu Oct 12 11:52:...|        southwestair|      [southwestair]|(10000,[3603],[1.0])|(10000,[3603],[4....|\n|      1|Thu Oct 12 11:44:...|southwestair allo...|[southwestair, al...|(10000,[361,393,1...|(10000,[361,393,1...|\n|      0|Thu Oct 12 11:49:...|159315 yes—put pt...|[159315, yes—put,...|(10000,[3057,3850...|(10000,[3057,3850...|\n|      1|Thu Oct 12 11:40:...|southwestair anno...|[southwestair, an...|(10000,[2252,2543...|(10000,[2252,2543...|\n|      0|Thu Oct 12 11:44:...|120282 low fares ...|[120282, low, far...|(10000,[829,1403,...|(10000,[829,1403,...|\n|      1|Thu Oct 12 11:41:...|southwestair pric...|[southwestair, pr...|(10000,[3340,3603...|(10000,[3340,3603...|\n|      0|Thu Oct 12 11:57:...|308362 ill happy ...|[308362, ill, hap...|(10000,[346,2789,...|(10000,[346,2789,...|\n|      1|Thu Oct 12 11:33:...|askspectrum known...|[askspectrum, kno...|(10000,[941,2068,...|(10000,[941,2068,...|\n+-------+--------------------+--------------------+--------------------+--------------------+--------------------+\nonly showing top 20 rows\n",
					"output_type": "stream"
				}
			],
			"id": "e6451585-c090-408c-a743-a6149d61fb68"
		},
		{
			"cell_type": "code",
			"source": "tfidf.select(\"inbound\", \"rawFeatures\",\"features\").show(truncate=False)",
			"metadata": {
				"trusted": true,
				"tags": []
			},
			"execution_count": 18,
			"outputs": [
				{
					"name": "stdout",
					"text": "+-------+------------------------------------------------------------------------------------------------------------------------------------------------+-----------------------------------------------------------------------------------------------------------------------------------------------------------------------------------------------------------------------------------------------------------------------------------------------------------------------------------------------------------------+\n|inbound|rawFeatures                                                                                                                                     |features                                                                                                                                                                                                                                                                                                                                                         |\n+-------+------------------------------------------------------------------------------------------------------------------------------------------------+-----------------------------------------------------------------------------------------------------------------------------------------------------------------------------------------------------------------------------------------------------------------------------------------------------------------------------------------------------------------+\n|1      |(10000,[1813,3855],[1.0,2.0])                                                                                                                   |(10000,[1813,3855],[8.9304333715077,14.022756619511126])                                                                                                                                                                                                                                                                                                         |\n|0      |(10000,[157,1280,2405,5113,5523,7312,7612,8925],[1.0,1.0,1.0,1.0,1.0,1.0,1.0,1.0])                                                              |(10000,[157,1280,2405,5113,5523,7312,7612,8925],[3.031692969156496,7.111710942922942,3.5123874317870682,3.9169169272540176,3.0204384008209457,6.636487641104362,5.9396866233377486,5.5951613742646344])                                                                                                                                                          |\n|1      |(10000,[1125,2628,8609],[1.0,1.0,1.0])                                                                                                          |(10000,[1125,2628,8609],[6.694827050628905,4.911534869552728,4.193975571725989])                                                                                                                                                                                                                                                                                 |\n|0      |(10000,[1071,2662,3729,3850,3989,4943,5391,6282,6298,7977,8250,9105,9133,9711],[1.0,1.0,1.0,1.0,1.0,1.0,1.0,1.0,1.0,1.0,1.0,1.0,1.0,1.0])       |(10000,[1071,2662,3729,3850,3989,4943,5391,6282,6298,7977,8250,9105,9133,9711],[5.928804538386866,4.751671894167083,7.248424766238764,6.631888688050659,4.354088654565144,5.683461343906494,7.171000869273961,6.1162165281421395,8.773981194692162,3.7216084631524504,7.967915922138312,8.226590901831006,4.017877320510163,5.361203613532131])                  |\n|1      |(10000,[1259,1690,2144,3603,4704,4970,5724],[1.0,1.0,1.0,1.0,1.0,1.0,1.0])                                                                      |(10000,[1259,1690,2144,3603,4704,4970,5724],[7.19868267434395,4.0774375120975375,4.097014408505095,4.36625320490794,5.319079634058146,6.236096846167667,8.494957184983496])                                                                                                                                                                                      |\n|0      |(10000,[3221,6117,7517,9028],[1.0,1.0,1.0,1.0])                                                                                                 |(10000,[3221,6117,7517,9028],[7.364958582494716,8.68811990408577,7.513041565759549,6.767233947602464])                                                                                                                                                                                                                                                           |\n|1      |(10000,[448,2144,3603,4009,6379,6599,7029,7390,7642,8166,9011,9028],[1.0,1.0,1.0,1.0,1.0,1.0,1.0,1.0,1.0,1.0,1.0,1.0])                          |(10000,[448,2144,3603,4009,6379,6599,7029,7390,7642,8166,9011,9028],[8.146139112539984,4.097014408505095,4.36625320490794,7.990762190989481,8.597423342614958,5.765684506850621,3.756214302876057,7.045892168828679,6.192024326379964,4.681976532653492,4.504267669243271,6.767233947602464])                                                                    |\n|0      |(10000,[4038,4940,5148,5354,5477,5700,6026,7100],[1.0,1.0,1.0,1.0,1.0,1.0,1.0,1.0])                                                             |(10000,[4038,4940,5148,5354,5477,5700,6026,7100],[6.0601241313071235,8.746768631167278,6.621417388183364,3.456887194657965,4.6042377588035075,7.2934221321695,3.9470108881245936,9.032216065817643])                                                                                                                                                             |\n|1      |(10000,[1248,3451,3603,4940,5464,6240,6537,7724,8392],[1.0,1.0,1.0,1.0,1.0,1.0,1.0,1.0,1.0])                                                    |(10000,[1248,3451,3603,4940,5464,6240,6537,7724,8392],[8.406787059312649,6.783119657774583,4.36625320490794,8.746768631167278,7.624573820012875,3.844265109781496,3.35499352150175,7.8167029647528405,4.823754792694481])                                                                                                                                        |\n|0      |(10000,[1041,1248,2238,2885,3947,4901,5477,6026,6086,7289],[1.0,1.0,1.0,1.0,1.0,1.0,1.0,1.0,1.0,1.0])                                           |(10000,[1041,1248,2238,2885,3947,4901,5477,6026,6086,7289],[4.0673754269110205,8.406787059312649,6.4520443310371665,6.048610597061687,4.569700394518383,7.394607276416846,4.6042377588035075,3.9470108881245936,7.47783793056657,7.398666429569308])                                                                                                             |\n|1      |(10000,[613,2252,2433,2996,3603,3919,4258,4337,5944,6343,8104,8442],[1.0,1.0,1.0,1.0,1.0,1.0,1.0,1.0,1.0,1.0,1.0,1.0])                          |(10000,[613,2252,2433,2996,3603,3919,4258,4337,5944,6343,8104,8442],[6.1991778071159835,3.124578037683109,6.140852736199182,5.16368478610772,4.36625320490794,5.986418930662219,6.867935644200777,8.05810576305466,5.7566448972728965,7.004302808539363,7.782860255643889,5.48738226967277])                                                                     |\n|0      |(10000,[361,585,2149,2207,2827,3247,3451,4373,5044,5133,5497,7271,8386,8430,9196],[1.0,1.0,1.0,1.0,1.0,1.0,1.0,1.0,1.0,1.0,1.0,1.0,1.0,1.0,1.0])|(10000,[361,585,2149,2207,2827,3247,3451,4373,5044,5133,5497,7271,8386,8430,9196],[6.506487421509387,3.865628993757161,5.988828058164831,4.29270752122301,4.966144426585083,8.8857478821624,6.783119657774583,6.4126935422230265,4.4352340736822775,4.109891694053102,5.072310337298668,7.807915561986036,4.267856893204546,3.391808768082357,7.808790835564891])|\n|1      |(10000,[3603],[1.0])                                                                                                                            |(10000,[3603],[4.36625320490794])                                                                                                                                                                                                                                                                                                                                |\n|1      |(10000,[361,393,1434,2753,3389,3603,4338,4373,5133,6664,7029,9711],[1.0,1.0,1.0,1.0,1.0,1.0,1.0,1.0,1.0,1.0,2.0,1.0])                           |(10000,[361,393,1434,2753,3389,3603,4338,4373,5133,6664,7029,9711],[6.506487421509387,5.316106570702918,6.63730142115741,3.7697726381724914,5.707372766671129,4.36625320490794,4.498976736440626,6.4126935422230265,4.109891694053102,5.300587903061175,7.512428605752114,5.361203613532131])                                                                    |\n|0      |(10000,[3057,3850,5440,6320,7075],[1.0,1.0,1.0,1.0,1.0])                                                                                        |(10000,[3057,3850,5440,6320,7075],[5.904646542221952,6.631888688050659,6.077336789248605,7.654139905602138,8.49669782946128])                                                                                                                                                                                                                                    |\n|1      |(10000,[2252,2543,3160,3603,3928,6343,6399,7658,8157,8162,9248,9661],[1.0,1.0,1.0,1.0,1.0,1.0,1.0,1.0,1.0,1.0,1.0,1.0])                         |(10000,[2252,2543,3160,3603,3928,6343,6399,7658,8157,8162,9248,9661],[3.124578037683109,4.576001742779705,4.751795429755783,4.36625320490794,5.735057322555398,7.004302808539363,8.797238056856429,7.203451400596033,3.3402290756450053,7.146319543301611,4.527458339870008,5.3154551284591856])                                                                 |\n|0      |(10000,[829,1403,3015,3391,4039,4269,4607,4693,4806,5596,8199,8411],[1.0,1.0,1.0,1.0,1.0,1.0,1.0,1.0,1.0,1.0,1.0,2.0])                          |(10000,[829,1403,3015,3391,4039,4269,4607,4693,4806,5596,8199,8411],[6.901648654479279,6.916965071441096,6.650412780793857,6.205501383431243,9.099934239872594,8.476007436203835,6.371914904376454,4.088110692368828,5.765798020671051,6.672935629147052,6.480634042683053,9.84942878325954])                                                                    |\n|1      |(10000,[3340,3603,8157,8273,8297,9011,9133,9531,9681],[1.0,1.0,1.0,1.0,1.0,1.0,1.0,1.0,1.0])                                                    |(10000,[3340,3603,8157,8273,8297,9011,9133,9531,9681],[5.827608212747147,4.36625320490794,3.3402290756450053,4.579011448751473,5.338808190023601,4.504267669243271,4.017877320510163,6.717796515176594,4.607405077595774])                                                                                                                                       |\n|0      |(10000,[346,2789,2911,3184,3781,4547,5347,6262,8519,9187,9248],[1.0,1.0,1.0,1.0,1.0,1.0,1.0,1.0,1.0,1.0,1.0])                                   |(10000,[346,2789,2911,3184,3781,4547,5347,6262,8519,9187,9248],[5.312925768483768,7.771829172211615,3.3818908794310545,5.476442924619384,3.9286001430423463,5.106947833639476,3.5491000542632896,5.594013488161933,3.225030346852962,3.246296009672015,4.527458339870008])                                                                                       |\n|1      |(10000,[941,2068,2207,2214,2540,2715,3173,3781,4547,4592,5589,6616,9145,9681],[1.0,1.0,1.0,1.0,1.0,1.0,1.0,1.0,1.0,1.0,1.0,1.0,1.0,1.0])        |(10000,[941,2068,2207,2214,2540,2715,3173,3781,4547,4592,5589,6616,9145,9681],[6.285250448465759,4.403980606898555,4.29270752122301,5.528250812209999,4.141218204280816,4.068664060099132,7.651891871684255,3.9286001430423463,5.106947833639476,6.136238357543537,6.545574810217434,3.340761249588071,7.934596333062284,4.607405077595774])                     |\n+-------+------------------------------------------------------------------------------------------------------------------------------------------------+-----------------------------------------------------------------------------------------------------------------------------------------------------------------------------------------------------------------------------------------------------------------------------------------------------------------------------------------------------------------+\nonly showing top 20 rows\n",
					"output_type": "stream"
				}
			],
			"id": "48275c6e-94d6-4775-806b-e1a646459728"
		},
		{
			"cell_type": "code",
			"source": "#Estas relaciones son las que entran al modelo, al pipeline ",
			"metadata": {
				"trusted": true,
				"tags": []
			},
			"execution_count": 1,
			"outputs": [],
			"id": "703ddd19-5bc1-4306-a4ed-eedc72cddcfd"
		},
		{
			"cell_type": "code",
			"source": "#Se propone una regresion logistica \nlr = LogisticRegression(featuresCol=\"features\", labelCol=\"inbound\", maxIter=20)",
			"metadata": {
				"trusted": true,
				"tags": []
			},
			"execution_count": 19,
			"outputs": [
				{
					"name": "stdout",
					"text": "\n",
					"output_type": "stream"
				}
			],
			"id": "80c3e1f0-8f5e-4334-ba9d-f1e224d60aa9"
		},
		{
			"cell_type": "code",
			"source": "#Ahora con todos esos componentes se propone el pipeline completo \npipeline = Pipeline(stages=[tokenizer, tf, idf, lr])",
			"metadata": {
				"trusted": true,
				"tags": []
			},
			"execution_count": 20,
			"outputs": [
				{
					"name": "stdout",
					"text": "\n",
					"output_type": "stream"
				}
			],
			"id": "dcf0cc41-6ae5-47e9-b500-6dad1cab2a1e"
		},
		{
			"cell_type": "code",
			"source": "#Dividir el dataset en un 80% train y 20% para la evaluación \ntrain_df, test_df = df.randomSplit([0.8, 0.2], seed=42)",
			"metadata": {
				"trusted": true,
				"tags": []
			},
			"execution_count": 21,
			"outputs": [
				{
					"name": "stdout",
					"text": "\n",
					"output_type": "stream"
				}
			],
			"id": "dce7c52e-8d02-4562-bf34-a4c6855b79aa"
		},
		{
			"cell_type": "code",
			"source": "#Entrenamiento \nlogger.info(\"Entrenando modelo...\")\nmodel = pipeline.fit(train_df)",
			"metadata": {
				"trusted": true,
				"tags": []
			},
			"execution_count": 22,
			"outputs": [
				{
					"name": "stdout",
					"text": "\n",
					"output_type": "stream"
				}
			],
			"id": "f2b049cf-5c2e-4e99-9bd8-96eb28193863"
		},
		{
			"cell_type": "code",
			"source": "logger.info(\"Evaluando modelo...\")\npredictions = model.transform(test_df)\nevaluator = BinaryClassificationEvaluator(labelCol=\"inbound\", rawPredictionCol=\"rawPrediction\")\nauc = evaluator.evaluate(predictions)\nlogger.info(f\"AUC en test set: {auc}\")",
			"metadata": {
				"trusted": true,
				"tags": []
			},
			"execution_count": 23,
			"outputs": [
				{
					"name": "stdout",
					"text": "\n",
					"output_type": "stream"
				}
			],
			"id": "6a18eec9-18bb-45c0-9bf4-fa7727fd930a"
		},
		{
			"cell_type": "code",
			"source": "#logger.info(\"Guardando modelo entrenado en S3...\")\n#model.write().overwrite().save(model_output_path)\n#logger.info(\"Entrenamiento completado y modelo guardado.\")",
			"metadata": {
				"trusted": true,
				"tags": []
			},
			"execution_count": 1,
			"outputs": [],
			"id": "5996297b-c42b-44e3-8161-bc9b6ba8f2d7"
		},
		{
			"cell_type": "code",
			"source": "test_df = spark.createDataFrame([(\"test\",)], [\"col\"])\ntest_df.write.mode(\"overwrite\").parquet(\"s3://nequijmmarinq/models/test-write/\")",
			"metadata": {
				"trusted": true,
				"tags": []
			},
			"execution_count": 25,
			"outputs": [
				{
					"name": "stdout",
					"text": "\n",
					"output_type": "stream"
				}
			],
			"id": "38bebcfa-e88c-4c0f-a9c0-c66316beacb2"
		}
	]
}