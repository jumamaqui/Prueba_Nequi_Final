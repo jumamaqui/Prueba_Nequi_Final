{
	"metadata": {
		"kernelspec": {
			"name": "glue_pyspark",
			"display_name": "Glue PySpark",
			"language": "python"
		},
		"language_info": {
			"name": "Python_Glue_Session",
			"mimetype": "text/x-python",
			"codemirror_mode": {
				"name": "python",
				"version": 3
			},
			"pygments_lexer": "python3",
			"file_extension": ".py"
		}
	},
	"nbformat_minor": 4,
	"nbformat": 4,
	"cells": [
		{
			"cell_type": "code",
			"source": "import sys\nfrom awsglue.context import GlueContext\nfrom awsglue.utils import getResolvedOptions\nfrom pyspark.context import SparkContext\nfrom pyspark.sql import functions as F\nfrom pyspark.sql.types import BooleanType\nfrom pyspark.ml.feature import Tokenizer\n\nsc = SparkContext.getOrCreate()\nglueContext = GlueContext(sc)\nspark = glueContext.spark_session\nlogger = glueContext.get_logger()\n\n",
			"metadata": {
				"trusted": true,
				"tags": []
			},
			"execution_count": 29,
			"outputs": [
				{
					"name": "stdout",
					"text": "\n",
					"output_type": "stream"
				}
			]
		},
		{
			"cell_type": "code",
			"source": "output_path_predictions = \"s3://nequijmmarinq/predictions/\"\nmodel_output_path = \"s3://nequijmmarinq/models/msg-classifier\"\ntest_path = \"s3://nequijmmarinq/test/\"\n\n",
			"metadata": {
				"trusted": true,
				"tags": []
			},
			"execution_count": 34,
			"outputs": [
				{
					"name": "stdout",
					"text": "\n",
					"output_type": "stream"
				}
			]
		},
		{
			"cell_type": "code",
			"source": "try:\n    from pyspark.ml import PipelineModel\n    logger.info(\"Cargando modelo desde S3...\")\n    model = PipelineModel.load(model_output_path)\n    logger.info(\"Realizando inferencia en batch...\")\n    df = spark.read.parquet(test_path)\n    predictions = model.transform(df)\n    predictions.select(\"body\", \"prediction\", \"msg_length\").write.mode(\"overwrite\").parquet(output_path_predictions)\n    logger.info(\"Inferencia completada y resultados guardados.\")\n\nexcept Exception as e:\n    logger.warn(f\"Modelo no encontrado o error en inferencia: {str(e)}\")\n\nlogger.info(\"Pipeline completo.\")\n",
			"metadata": {
				"trusted": true,
				"tags": []
			},
			"execution_count": 32,
			"outputs": [
				{
					"name": "stdout",
					"text": "\n",
					"output_type": "stream"
				}
			]
		},
		{
			"cell_type": "code",
			"source": "from pyspark.ml import PipelineModel\nmodel = PipelineModel.load(model_output_path)\nlogger.info(\"Cargando modelo desde S3...\")\n",
			"metadata": {
				"trusted": true,
				"tags": []
			},
			"execution_count": 37,
			"outputs": [
				{
					"name": "stdout",
					"text": "\n",
					"output_type": "stream"
				}
			]
		},
		{
			"cell_type": "code",
			"source": "df = spark.read.parquet(test_path)",
			"metadata": {
				"trusted": true,
				"tags": []
			},
			"execution_count": 38,
			"outputs": [
				{
					"name": "stdout",
					"text": "\n",
					"output_type": "stream"
				}
			]
		},
		{
			"cell_type": "code",
			"source": "df.count()",
			"metadata": {
				"trusted": true,
				"tags": []
			},
			"execution_count": 39,
			"outputs": [
				{
					"name": "stdout",
					"text": "563505\n",
					"output_type": "stream"
				}
			]
		},
		{
			"cell_type": "code",
			"source": "predictions = model.transform(df)",
			"metadata": {
				"trusted": true,
				"tags": []
			},
			"execution_count": 40,
			"outputs": [
				{
					"name": "stdout",
					"text": "\n",
					"output_type": "stream"
				}
			]
		},
		{
			"cell_type": "code",
			"source": "predictions.show()",
			"metadata": {
				"trusted": true,
				"tags": []
			},
			"execution_count": 41,
			"outputs": [
				{
					"name": "stdout",
					"text": "+-------+--------------------+--------------------+--------------------+--------------------+--------------------+--------------------+--------------------+----------+\n|inbound|          created_at|                text|              tokens|         rawFeatures|            features|       rawPrediction|         probability|prediction|\n+-------+--------------------+--------------------+--------------------+--------------------+--------------------+--------------------+--------------------+----------+\n|      0|Fri Aug 11 11:20:...|735053 definitely...|[735053, definite...|(10000,[733,2405,...|(10000,[733,2405,...|[4.50687417574296...|[0.98908750319478...|       0.0|\n|      0|Fri Dec 01 00:00:...|739582 may tight ...|[739582, may, tig...|(10000,[1815,2170...|(10000,[1815,2170...|[1.43749055694009...|[0.80806574898097...|       0.0|\n|      0|Fri Dec 01 05:29:...|741557 awaiting r...|[741557, awaiting...|(10000,[182,1147,...|(10000,[182,1147,...|[4.15077030939504...|[0.98449200850567...|       0.0|\n|      0|Fri Dec 01 05:32:...|135116 trouble ca...|[135116, trouble,...|(10000,[1685,1695...|(10000,[1685,1695...|[4.55540062151339...|[0.98959902847315...|       0.0|\n|      0|Fri Dec 01 05:40:...|146617 bear takin...|[146617, bear, ta...|(10000,[393,1851,...|(10000,[393,1851,...|[1.64128923286811...|[0.83771028722000...|       0.0|\n|      0|Fri Dec 01 13:31:...|740491 pm post co...|[740491, pm, post...|(10000,[793,3304,...|(10000,[793,3304,...|[2.95916430493503...|[0.95069483615868...|       0.0|\n|      0|Fri Dec 01 13:32:...|639379 glad hear ...|[639379, glad, he...|(10000,[841,2665,...|(10000,[841,2665,...|[5.37288598499526...|[0.99538071786953...|       0.0|\n|      0|Fri Dec 01 13:39:...|156937 sure under...|[156937, sure, un...|(10000,[698,1821,...|(10000,[698,1821,...|[14.6249464361577...|[0.99999955489110...|       0.0|\n|      0|Fri Dec 01 13:40:...|739130 hello kind...|[739130, hello, k...|(10000,[904,3264,...|(10000,[904,3264,...|[6.50076387660675...|[0.99849996230394...|       0.0|\n|      0|Fri Dec 01 13:52:...|739087 np httpstc...|[739087, np, http...|(10000,[2120,5475...|(10000,[2120,5475...|[2.83097404112050...|[0.94432683315161...|       0.0|\n|      0|Fri Dec 01 13:56:...|229906 could name...|[229906, could, n...|(10000,[15,2080,2...|(10000,[15,2080,2...|[3.26751991827600...|[0.96329758826092...|       0.0|\n|      0|Fri Dec 01 14:05:...|740226 natalie br...|[740226, natalie,...|(10000,[247,3057,...|(10000,[247,3057,...|[4.05095466516721...|[0.98289202705872...|       0.0|\n|      0|Fri Dec 01 21:18:...|735307 cellular h...|[735307, cellular...|(10000,[2252,3365...|(10000,[2252,3365...|[-0.5188349912031...|[0.37312469203580...|       1.0|\n|      0|Fri Dec 01 21:21:...|233457 strange tr...|[233457, strange,...|(10000,[468,1620,...|(10000,[468,1620,...|[6.29982909703295...|[0.99816674835035...|       0.0|\n|      0|Fri Jan 13 18:37:...|735914 utilizing ...|[735914, utilizin...|(10000,[2280,2339...|(10000,[2280,2339...|[0.13636039751830...|[0.53403737435727...|       0.0|\n|      0|Fri Jul 21 12:59:...|344260 trouble se...|[344260, trouble,...|(10000,[468,2753,...|(10000,[468,2753,...|[7.35678323203242...|[0.99936215884354...|       0.0|\n|      0|Fri Nov 03 09:49:...|148008 could tell...|[148008, could, t...|(10000,[1850,2080...|(10000,[1850,2080...|[2.76840347659960...|[0.94094433320001...|       0.0|\n|      0|Fri Nov 03 13:27:...|438718 priya apol...|[438718, priya, a...|(10000,[182,468,1...|(10000,[182,468,1...|[6.35619870591174...|[0.99826705525702...|       0.0|\n|      0|Fri Nov 03 14:52:...|727285 happy look...|[727285, happy, l...|(10000,[392,2405,...|(10000,[392,2405,...|[8.92912560159592...|[0.99986754373819...|       0.0|\n|      0|Fri Nov 03 19:02:...|364937 nous seron...|[364937, nous, se...|(10000,[201,1585,...|(10000,[201,1585,...|[12.9414977879288...|[0.99999760349752...|       0.0|\n+-------+--------------------+--------------------+--------------------+--------------------+--------------------+--------------------+--------------------+----------+\nonly showing top 20 rows\n",
					"output_type": "stream"
				}
			]
		},
		{
			"cell_type": "code",
			"source": "",
			"metadata": {},
			"execution_count": null,
			"outputs": []
		}
	]
}